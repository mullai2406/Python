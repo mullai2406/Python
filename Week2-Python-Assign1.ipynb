{
 "cells": [
  {
   "cell_type": "code",
   "execution_count": null,
   "id": "30cc4042-1ca6-4c78-87bc-134efcc382f5",
   "metadata": {},
   "outputs": [
    {
     "name": "stdout",
     "output_type": "stream",
     "text": [
      "Num1=  10\n",
      "Num2=  30\n",
      "Add=  40\n"
     ]
    }
   ],
   "source": [
    "\n",
    "print(\"Welcome to Assigment-1\")\n",
    "\n",
    "\n",
    "\n",
    "\n",
    "num1=int(10)\n",
    "num2=int(30)\n",
    "print(\"Num1= \",num1)\n",
    "print(\"Num2= \", num2)\n",
    "print(\"Add= \", num1+num2)\n",
    "\n",
    "\n",
    "bmi=float(input(\"Enter the BMI :\"))\n",
    "if(bmi<=18.4):\n",
    "    print(\"Your are Under Weight\")\n",
    "elif(bmi<=24.9):\n",
    "    print(\"Your are Normal weight\")\n",
    "elif(bmi <=29.9):\n",
    "    print(\"Your are Over Weight\")\n",
    "elif(bmi <34.9):\n",
    "    print(\"Your are Over Weight, Obese Class-1\")\n",
    "elif(bmi <=39.9):\n",
    "    print(\"Your are Over Weight, Obese Class-2\")\n",
    "elif(bmi >=40.0):\n",
    "    print(\"Your are Over Weight, Obese Class-3\")\n",
    "    "
   ]
  },
  {
   "cell_type": "code",
   "execution_count": null,
   "id": "b7c71978-153c-4176-bf4c-10c310c0db60",
   "metadata": {},
   "outputs": [],
   "source": []
  }
 ],
 "metadata": {
  "kernelspec": {
   "display_name": "Python 3 (ipykernel)",
   "language": "python",
   "name": "python3"
  },
  "language_info": {
   "codemirror_mode": {
    "name": "ipython",
    "version": 3
   },
   "file_extension": ".py",
   "mimetype": "text/x-python",
   "name": "python",
   "nbconvert_exporter": "python",
   "pygments_lexer": "ipython3",
   "version": "3.12.4"
  }
 },
 "nbformat": 4,
 "nbformat_minor": 5
}
