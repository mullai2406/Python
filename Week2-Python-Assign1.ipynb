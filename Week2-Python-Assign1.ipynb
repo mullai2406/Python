{
 "cells": [
  {
   "cell_type": "code",
   "execution_count": 1,
   "id": "d9a4efca-3830-4c82-a9a6-38c6e8bf804a",
   "metadata": {},
   "outputs": [
    {
     "name": "stdout",
     "output_type": "stream",
     "text": [
      "Welcome to Assigment-1\n"
     ]
    }
   ],
   "source": [
    "print(\"Welcome to Assigment-1\")"
   ]
  },
  {
   "cell_type": "code",
   "execution_count": 3,
   "id": "3cfeba7c-c3b4-4d17-93ca-edfc2a63dd06",
   "metadata": {},
   "outputs": [
    {
     "name": "stdout",
     "output_type": "stream",
     "text": [
      "Num1=  10\n",
      "Num2=  30\n",
      "Add=  40\n"
     ]
    }
   ],
   "source": [
    "num1=int(10)\n",
    "num2=int(30)\n",
    "print(\"Num1= \",num1)\n",
    "print(\"Num2= \", num2)\n",
    "print(\"Add= \", num1+num2)"
   ]
  },
  {
   "cell_type": "code",
   "execution_count": 5,
   "id": "b61213d6-5bb5-428e-9f61-9febb80ca687",
   "metadata": {},
   "outputs": [
    {
     "name": "stdin",
     "output_type": "stream",
     "text": [
      "Enter the BMI : 21\n"
     ]
    },
    {
     "name": "stdout",
     "output_type": "stream",
     "text": [
      "Your are Normal weight\n"
     ]
    }
   ],
   "source": [
    "bmi=float(input(\"Enter the BMI :\"))\n",
    "if(bmi<=18.4):\n",
    "    print(\"Your are Under Weight\")\n",
    "elif(bmi<=24.9):\n",
    "    print(\"Your are Normal weight\")\n",
    "elif(bmi <=29.9):\n",
    "    print(\"Your are Over Weight\")\n",
    "elif(bmi <34.9):\n",
    "    print(\"Your are Over Weight, Obese Class-1\")\n",
    "elif(bmi <=39.9):\n",
    "    print(\"Your are Over Weight, Obese Class-2\")\n",
    "elif(bmi >=40.0):\n",
    "    print(\"Your are Over Weight, Obese Class-3\")"
   ]
  }
 ],
 "metadata": {
  "kernelspec": {
   "display_name": "Python 3 (ipykernel)",
   "language": "python",
   "name": "python3"
  },
  "language_info": {
   "codemirror_mode": {
    "name": "ipython",
    "version": 3
   },
   "file_extension": ".py",
   "mimetype": "text/x-python",
   "name": "python",
   "nbconvert_exporter": "python",
   "pygments_lexer": "ipython3",
   "version": "3.12.4"
  }
 },
 "nbformat": 4,
 "nbformat_minor": 5
}
