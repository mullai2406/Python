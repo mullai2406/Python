{
 "cells": [
  {
   "cell_type": "code",
   "execution_count": 1,
   "id": "553de068-64bd-4034-a61e-85d0c375f6a9",
   "metadata": {},
   "outputs": [
    {
     "name": "stdout",
     "output_type": "stream",
     "text": [
      "HOPE AI\n"
     ]
    }
   ],
   "source": [
    "print(\"HOPE AI\")"
   ]
  },
  {
   "cell_type": "code",
   "execution_count": 3,
   "id": "8614fa24-dcd7-44fb-9c9b-8abba85dd8d9",
   "metadata": {},
   "outputs": [
    {
     "name": "stdin",
     "output_type": "stream",
     "text": [
      "Enter Your Institute name :  Hope AI\n"
     ]
    },
    {
     "name": "stdout",
     "output_type": "stream",
     "text": [
      "Hope AI\n"
     ]
    }
   ],
   "source": [
    "sname = input(\"Enter Your Institute name : \")\n",
    "print(sname)"
   ]
  },
  {
   "cell_type": "code",
   "execution_count": 5,
   "id": "b3bb2158-3230-4b5a-985e-6c0aa88a4b1e",
   "metadata": {},
   "outputs": [
    {
     "name": "stdout",
     "output_type": "stream",
     "text": [
      "Add : 23\n",
      "Sub : 17\n",
      "Multiple : 60\n",
      "Div : 6.666666666666667\n",
      "Floor : 6\n",
      "Mod : 2\n",
      "Power : 8000\n"
     ]
    }
   ],
   "source": [
    "a=20\n",
    "b=3\n",
    "c=a+b\n",
    "print(\"Add : \"+str(c))\n",
    "\n",
    "\n",
    "c=a-b\n",
    "print(\"Sub : \"+str(c))\n",
    "\n",
    "\n",
    "c=a*b\n",
    "print(\"Multiple : \"+str(c))\n",
    "\n",
    "\n",
    "c=a/b\n",
    "print(\"Div : \"+str(c))\n",
    "\n",
    "\n",
    "c=a//b\n",
    "print(\"Floor : \"+str(c))\n",
    "\n",
    "c=a%b\n",
    "print(\"Mod : \"+str(c))\n",
    "\n",
    "c=a**b\n",
    "print(\"Power : \"+str(c))\n"
   ]
  }
 ],
 "metadata": {
  "kernelspec": {
   "display_name": "Python 3 (ipykernel)",
   "language": "python",
   "name": "python3"
  },
  "language_info": {
   "codemirror_mode": {
    "name": "ipython",
    "version": 3
   },
   "file_extension": ".py",
   "mimetype": "text/x-python",
   "name": "python",
   "nbconvert_exporter": "python",
   "pygments_lexer": "ipython3",
   "version": "3.12.4"
  }
 },
 "nbformat": 4,
 "nbformat_minor": 5
}
